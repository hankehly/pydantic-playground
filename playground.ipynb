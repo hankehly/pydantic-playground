{
 "cells": [
  {
   "cell_type": "markdown",
   "metadata": {},
   "source": [
    "# pydantic Playground\n",
    "事例として東京ガスの[この料金表](https://home.tokyo-gas.co.jp/power/ryokin/menu_waribiki/menu1.html#link3)を使います。"
   ]
  },
  {
   "cell_type": "code",
   "execution_count": 16,
   "metadata": {},
   "outputs": [],
   "source": [
    "from typing import Dict, List\n",
    "\n",
    "from pydantic import BaseModel, ValidationError"
   ]
  },
  {
   "cell_type": "code",
   "execution_count": 14,
   "metadata": {},
   "outputs": [],
   "source": [
    "Inf = float(\"inf\")\n",
    "\n",
    "class Tier(BaseModel):\n",
    "    tier: float = Inf\n",
    "    price: float = 0.0\n",
    "\n",
    "\n",
    "Rate = List[Tier]\n",
    "RateKey = str\n",
    "\n",
    "\n",
    "class Plan(BaseModel):\n",
    "    base: Rate\n",
    "    usage: Dict[RateKey, Rate]\n",
    "\n",
    "\n",
    "plan = Plan(\n",
    "    base=[\n",
    "        Tier(tier=30, price=858),\n",
    "        Tier(tier=40, price=1144),\n",
    "        Tier(tier=50, price=1430),\n",
    "        Tier(tier=60, price=1716),\n",
    "    ],\n",
    "    usage={\n",
    "        \"flat\": [\n",
    "            Tier(tier=140, price=23.67),\n",
    "            Tier(tier=350, price=23.88),\n",
    "            Tier(tier=Inf, price=26.41),\n",
    "        ]\n",
    "    },\n",
    ")"
   ]
  },
  {
   "cell_type": "code",
   "execution_count": 12,
   "metadata": {},
   "outputs": [
    {
     "data": {
      "text/plain": [
       "{'base': [{'tier': 30.0, 'price': 858.0},\n",
       "  {'tier': 40.0, 'price': 1144.0},\n",
       "  {'tier': 50.0, 'price': 1430.0},\n",
       "  {'tier': 60.0, 'price': 1716.0}],\n",
       " 'usage': {'flat': [{'tier': 140.0, 'price': 23.67},\n",
       "   {'tier': 350.0, 'price': 23.88},\n",
       "   {'tier': inf, 'price': 26.41}]}}"
      ]
     },
     "execution_count": 12,
     "metadata": {},
     "output_type": "execute_result"
    }
   ],
   "source": [
    "plan.dict()"
   ]
  },
  {
   "cell_type": "code",
   "execution_count": 21,
   "metadata": {},
   "outputs": [
    {
     "name": "stdout",
     "output_type": "stream",
     "text": [
      "[\n",
      "  {\n",
      "    \"loc\": [\n",
      "      \"base\"\n",
      "    ],\n",
      "    \"msg\": \"field required\",\n",
      "    \"type\": \"value_error.missing\"\n",
      "  },\n",
      "  {\n",
      "    \"loc\": [\n",
      "      \"usage\"\n",
      "    ],\n",
      "    \"msg\": \"field required\",\n",
      "    \"type\": \"value_error.missing\"\n",
      "  }\n",
      "]\n"
     ]
    }
   ],
   "source": [
    "try:\n",
    "    Plan()\n",
    "except ValidationError as e:\n",
    "    print(e.json())"
   ]
  }
 ],
 "metadata": {
  "kernelspec": {
   "display_name": "Python 3",
   "language": "python",
   "name": "python3"
  },
  "language_info": {
   "codemirror_mode": {
    "name": "ipython",
    "version": 3
   },
   "file_extension": ".py",
   "mimetype": "text/x-python",
   "name": "python",
   "nbconvert_exporter": "python",
   "pygments_lexer": "ipython3",
   "version": "3.8.0"
  }
 },
 "nbformat": 4,
 "nbformat_minor": 4
}
